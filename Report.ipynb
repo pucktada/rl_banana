{
 "cells": [
  {
   "cell_type": "markdown",
   "metadata": {},
   "source": [
    "### 1. Start the Environment\n",
    "\n",
    "We begin by importing some necessary packages. If the code cell below returns an error, please revisit the project instructions to double-check that you have installed Unity ML-Agents and NumPy."
   ]
  },
  {
   "cell_type": "code",
   "execution_count": 1,
   "metadata": {},
   "outputs": [],
   "source": [
    "from unityagents import UnityEnvironment\n",
    "import numpy as np"
   ]
  },
  {
   "cell_type": "code",
   "execution_count": 2,
   "metadata": {},
   "outputs": [
    {
     "name": "stderr",
     "output_type": "stream",
     "text": [
      "INFO:unityagents:\n",
      "'Academy' started successfully!\n",
      "Unity Academy name: Academy\n",
      "        Number of Brains: 1\n",
      "        Number of External Brains : 1\n",
      "        Lesson number : 0\n",
      "        Reset Parameters :\n",
      "\t\t\n",
      "Unity brain name: BananaBrain\n",
      "        Number of Visual Observations (per agent): 0\n",
      "        Vector Observation space type: continuous\n",
      "        Vector Observation space size (per agent): 37\n",
      "        Number of stacked Vector Observation: 1\n",
      "        Vector Action space type: discrete\n",
      "        Vector Action space size (per agent): 4\n",
      "        Vector Action descriptions: , , , \n"
     ]
    }
   ],
   "source": [
    "env = UnityEnvironment(file_name=\"Banana.app\")"
   ]
  },
  {
   "cell_type": "code",
   "execution_count": 3,
   "metadata": {},
   "outputs": [],
   "source": [
    "# get the default brain\n",
    "brain_name = env.brain_names[0]\n",
    "brain = env.brains[brain_name]"
   ]
  },
  {
   "cell_type": "markdown",
   "metadata": {},
   "source": [
    "### 2. Examine the State and Action Spaces\n",
    "\n",
    "The simulation contains a single agent that navigates a large environment.  At each time step, it has four actions at its disposal:\n",
    "- `0` - walk forward \n",
    "- `1` - walk backward\n",
    "- `2` - turn left\n",
    "- `3` - turn right\n",
    "\n",
    "The state space has `37` dimensions and contains the agent's velocity, along with ray-based perception of objects around agent's forward direction.  A reward of `+1` is provided for collecting a yellow banana, and a reward of `-1` is provided for collecting a blue banana. \n",
    "\n",
    "Run the code cell below to print some information about the environment."
   ]
  },
  {
   "cell_type": "code",
   "execution_count": 4,
   "metadata": {},
   "outputs": [
    {
     "name": "stdout",
     "output_type": "stream",
     "text": [
      "Number of agents: 1\n",
      "Number of actions: 4\n",
      "States look like:\n",
      "[1.         0.         0.         0.         0.84408134 0.\n",
      " 0.         1.         0.         0.0748472  0.         1.\n",
      " 0.         0.         0.25755    1.         0.         0.\n",
      " 0.         0.74177343 0.         1.         0.         0.\n",
      " 0.25854847 0.         0.         1.         0.         0.09355672\n",
      " 0.         1.         0.         0.         0.31969345 0.\n",
      " 0.        ]\n",
      "States have length: 37\n"
     ]
    }
   ],
   "source": [
    "# reset the environment\n",
    "env_info = env.reset(train_mode=True)[brain_name]\n",
    "\n",
    "# number of agents in the environment\n",
    "print('Number of agents:', len(env_info.agents))\n",
    "\n",
    "# number of actions\n",
    "action_size = brain.vector_action_space_size\n",
    "print('Number of actions:', action_size)\n",
    "\n",
    "# examine the state space \n",
    "state = env_info.vector_observations[0]\n",
    "print('States look like:')\n",
    "print(state)\n",
    "state_size = len(state)\n",
    "print('States have length:', state_size)"
   ]
  },
  {
   "cell_type": "markdown",
   "metadata": {},
   "source": [
    "### 3. RL Agent & Model\n",
    "\n",
    "### Model\n",
    "#### model: model.py\n",
    "\n",
    "model.py contains the neural network model that serve as the q-value approximation.<br>\n",
    "It's a simple 3-layers fully-connected neural network of size (64x64x4).\n",
    "\n",
    "Since we are not working with the pixel input, this should be sufficient (no need for a conv layer) \n",
    "\n",
    "### Agents\n",
    "\n",
    "We implement a double-DQN agent (dqn_agent_double.py) where the target Q-value is caculated using both the target and the local network. Our agent is implement using a soft-update instead of a typical update after some fix periods. The hyper-paremeters are as followed:\n",
    "\n",
    "- BUFFER_SIZE = int(1e4)  \n",
    "- BATCH_SIZE = 64         \n",
    "- GAMMA = 0.99            \n",
    "- TAU = 5e-3              \n",
    "- LR  = 5e-4              \n",
    "- UPDATE_EVERY = 4     \n"
   ]
  },
  {
   "cell_type": "code",
   "execution_count": 5,
   "metadata": {},
   "outputs": [],
   "source": [
    "from dqn_agent_double import AgentDouble\n",
    "\n",
    "dagent = AgentDouble(state_size=state_size, action_size=action_size, seed=0)"
   ]
  },
  {
   "cell_type": "code",
   "execution_count": 6,
   "metadata": {},
   "outputs": [],
   "source": [
    "def run_episode(env, agent):\n",
    "    env_info = env.reset(train_mode=True)[brain_name]  # reset the environment\n",
    "    state = env_info.vector_observations[0]            # get the current state\n",
    "    score = 0                                          # initialize the score\n",
    "    while True:\n",
    "        action     = agent.act(state)\n",
    "        env_info   = env.step(action)[brain_name]      # send the action to the environment\n",
    "        next_state = env_info.vector_observations[0]   # get the next state\n",
    "        reward = env_info.rewards[0]                   # get the reward\n",
    "        done   = env_info.local_done[0]                # see if episode has finished\n",
    "\n",
    "        agent.step(state, action, reward, next_state, done) # agent learn sth...\n",
    "\n",
    "        score += reward                                # update the score\n",
    "        state = next_state                             # roll over the state to next time step\n",
    "        if done:                                       # exit loop if episode finished\n",
    "            break\n",
    "\n",
    "    return score"
   ]
  },
  {
   "cell_type": "code",
   "execution_count": 7,
   "metadata": {},
   "outputs": [
    {
     "name": "stdout",
     "output_type": "stream",
     "text": [
      "0: 0.000000\n",
      "10: 0.000000\n",
      "20: -0.047619\n",
      "30: 0.064516\n",
      "40: 0.146341\n",
      "50: 0.450980\n",
      "60: 0.967213\n",
      "70: 1.591549\n",
      "80: 2.481481\n",
      "90: 3.065934\n",
      "100: 3.660000\n",
      "110: 4.870000\n",
      "120: 5.690000\n",
      "130: 6.700000\n",
      "140: 7.910000\n",
      "150: 9.060000\n",
      "160: 10.130000\n",
      "170: 10.580000\n",
      "180: 10.870000\n",
      "190: 11.420000\n",
      "200: 11.980000\n",
      "210: 12.170000\n",
      "220: 12.700000\n",
      "230: 12.860000\n",
      "240: 12.980000\n",
      "250: 13.030000\n",
      "260: 13.020000\n",
      "270: 13.490000\n",
      "280: 13.660000\n",
      "290: 13.830000\n",
      "300: 13.810000\n",
      "310: 14.050000\n",
      "320: 14.290000\n",
      "330: 14.730000\n",
      "340: 14.860000\n",
      "350: 15.020000\n",
      "360: 15.310000\n",
      "370: 15.340000\n",
      "380: 15.460000\n",
      "390: 15.480000\n",
      "400: 15.710000\n",
      "410: 15.640000\n",
      "420: 15.610000\n",
      "430: 15.710000\n",
      "440: 15.760000\n",
      "450: 15.600000\n",
      "460: 15.660000\n",
      "470: 15.460000\n",
      "480: 15.600000\n",
      "490: 15.440000\n"
     ]
    }
   ],
   "source": [
    "# train the vanilla agent\n",
    "dagent_scores = []\n",
    "for i in range(500):\n",
    "    epi_score = run_episode(env, dagent)\n",
    "    dagent_scores += [epi_score]\n",
    "    if (i % 10) == 0:\n",
    "        avg_score = np.mean(dagent_scores[-100:])\n",
    "        print('%d: %f' % (i, avg_score))"
   ]
  },
  {
   "cell_type": "markdown",
   "metadata": {},
   "source": [
    "### 4. Performance\n",
    "\n",
    "A plot of rewards per episode illustrate that the agent is able to receive an average reward (over 100 episodes) of at least +13. The agent is able to solve the environment in around 250 episodes. After 500 episodes, the average scores over 100 episodes is around 15.44\n",
    "\n",
    "The resulting weights of the underlying network is saved at 'dagent.pt'"
   ]
  },
  {
   "cell_type": "code",
   "execution_count": 8,
   "metadata": {},
   "outputs": [
    {
     "data": {
      "image/png": "[encoded data removed]",
      "text/plain": [
       "<Figure size 432x288 with 1 Axes>"
      ]
     },
     "metadata": {
      "needs_background": "light"
     },
     "output_type": "display_data"
    }
   ],
   "source": [
    "import matplotlib.pyplot as plt\n",
    "%matplotlib inline\n",
    "\n",
    "line = [13 for x in np.arange(0,500)]\n",
    "plt.plot(dagent_scores)\n",
    "plt.plot(line, color='red')\n",
    "plt.show()"
   ]
  },
  {
   "cell_type": "code",
   "execution_count": 10,
   "metadata": {},
   "outputs": [],
   "source": [
    "dagent.save_model('dagent.pt')"
   ]
  },
  {
   "cell_type": "code",
   "execution_count": 11,
   "metadata": {},
   "outputs": [],
   "source": [
    "env.close()"
   ]
  },
  {
   "cell_type": "code",
   "execution_count": null,
   "metadata": {},
   "outputs": [],
   "source": []
  }
 ],
 "metadata": {
  "kernelspec": {
   "display_name": "Python 3",
   "language": "python",
   "name": "python3"
  },
  "language_info": {
   "codemirror_mode": {
    "name": "ipython",
    "version": 3
   },
   "file_extension": ".py",
   "mimetype": "text/x-python",
   "name": "python",
   "nbconvert_exporter": "python",
   "pygments_lexer": "ipython3",
   "version": "3.6.9"
  }
 },
 "nbformat": 4,
 "nbformat_minor": 2
}
